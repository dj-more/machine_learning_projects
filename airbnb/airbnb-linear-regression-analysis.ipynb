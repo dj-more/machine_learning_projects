{
 "cells": [
  {
   "cell_type": "code",
   "execution_count": 4,
   "metadata": {},
   "outputs": [],
   "source": [
    "%matplotlib inline\n",
    "import pandas as pd\n",
    "import numpy as np\n",
    "from sklearn import ensemble\n",
    "from sklearn import linear_model\n",
    "from sklearn.grid_search import GridSearchCV\n",
    "from sklearn import preprocessing\n",
    "from sklearn.cross_validation import train_test_split\n",
    "import sklearn.metrics as metrics\n",
    "import matplotlib.pyplot as plt\n",
    "from collections import Counter\n",
    "\n",
    "data = pd.read_csv('/Users/djmore/Udacity/machine-learning/projects/airbnb/AirBNB.csv')\n",
    "df = pd.DataFrame(data)\n"
   ]
  },
  {
   "cell_type": "code",
   "execution_count": 5,
   "metadata": {
    "collapsed": true
   },
   "outputs": [],
   "source": [
    "df.fillna(0, inplace=True)\n"
   ]
  },
  {
   "cell_type": "code",
   "execution_count": 6,
   "metadata": {},
   "outputs": [],
   "source": [
    "# Assign log_price to y - our target variable\n",
    "y = df['log_price']\n",
    "\n",
    "# Drop unnecessary columns for now\n",
    "df.drop('id',inplace=True,axis=1)\n",
    "df.drop('log_price',inplace=True,axis=1)\n",
    "df.drop('description',inplace=True,axis=1)\n",
    "df.drop('first_review',inplace=True,axis=1)\n",
    "df.drop('host_response_rate',inplace=True,axis=1)\n",
    "df.drop('host_since',inplace=True,axis=1)\n",
    "df.drop('last_review',inplace=True,axis=1)\n",
    "df.drop('latitude',inplace=True,axis=1)\n",
    "df.drop('longitude',inplace=True,axis=1)\n",
    "df.drop('name',inplace=True,axis=1)\n",
    "df.drop('thumbnail_url',inplace=True,axis=1)\n"
   ]
  },
  {
   "cell_type": "code",
   "execution_count": 7,
   "metadata": {},
   "outputs": [],
   "source": [
    "pt_dummy = pd.get_dummies(df.property_type).astype(int)\n",
    "rt_dummy = pd.get_dummies(df.room_type).astype(int)\n",
    "cp_dummy = pd.get_dummies(df.cancellation_policy).astype(int)\n",
    "c_dummy = pd.get_dummies(df.city).astype(int)\n",
    "host_pic_dummy = pd.get_dummies(df.host_has_profile_pic).astype(int)\n",
    "host_identity_dummy = pd.get_dummies(df.host_identity_verified).astype(int)\n",
    "instant_dummy = pd.get_dummies(df.instant_bookable).astype(int)\n",
    "neighbourhood_dummy = pd.get_dummies(df.neighbourhood).astype(int)\n",
    "zipcode_dummy = pd.get_dummies(df.zipcode).astype(int)\n",
    "cleaningfee_dummy = pd.get_dummies(df.cleaning_fee).astype(int)\n",
    "\n"
   ]
  },
  {
   "cell_type": "code",
   "execution_count": 8,
   "metadata": {},
   "outputs": [],
   "source": [
    "amenities_list = []\n",
    "\n",
    "for amenity in df.amenities:\n",
    "    amenity = amenity[1:]\n",
    "    amenity = amenity[:-1]\n",
    "    x = amenity.split()\n",
    "    amenities_list.append(len(x))\n",
    "\n",
    "df['number_of_amenities'] = amenities_list\n"
   ]
  },
  {
   "cell_type": "code",
   "execution_count": 9,
   "metadata": {},
   "outputs": [],
   "source": [
    "df2 = pd.concat([pt_dummy,rt_dummy,cp_dummy,c_dummy,host_pic_dummy,host_identity_dummy,instant_dummy,neighbourhood_dummy,zipcode_dummy],axis=1)\n",
    "df = pd.concat([df,df2],axis=1)\n",
    "df.drop(['property_type','room_type','amenities','bed_type','cancellation_policy','city','host_has_profile_pic','host_identity_verified','instant_bookable','neighbourhood','zipcode','cleaning_fee'],inplace=True,axis=1)\n"
   ]
  },
  {
   "cell_type": "code",
   "execution_count": 10,
   "metadata": {},
   "outputs": [
    {
     "data": {
      "text/html": [
       "<div>\n",
       "<style scoped>\n",
       "    .dataframe tbody tr th:only-of-type {\n",
       "        vertical-align: middle;\n",
       "    }\n",
       "\n",
       "    .dataframe tbody tr th {\n",
       "        vertical-align: top;\n",
       "    }\n",
       "\n",
       "    .dataframe thead th {\n",
       "        text-align: right;\n",
       "    }\n",
       "</style>\n",
       "<table border=\"1\" class=\"dataframe\">\n",
       "  <thead>\n",
       "    <tr style=\"text-align: right;\">\n",
       "      <th></th>\n",
       "      <th>accommodates</th>\n",
       "      <th>bathrooms</th>\n",
       "      <th>number_of_reviews</th>\n",
       "      <th>review_scores_rating</th>\n",
       "      <th>bedrooms</th>\n",
       "      <th>beds</th>\n",
       "      <th>number_of_amenities</th>\n",
       "      <th>Apartment</th>\n",
       "      <th>Bed &amp; Breakfast</th>\n",
       "      <th>Boat</th>\n",
       "      <th>...</th>\n",
       "      <th>94130</th>\n",
       "      <th>94131</th>\n",
       "      <th>94132</th>\n",
       "      <th>94133</th>\n",
       "      <th>94134</th>\n",
       "      <th>94158</th>\n",
       "      <th>94401</th>\n",
       "      <th>95202\r",
       "\r",
       "\r",
       "\r",
       "\r",
       "\r\n",
       "\r",
       "\r",
       "\r",
       "\r",
       "\r",
       "\r\n",
       "\r",
       "\r",
       "\r",
       "\r",
       "\r",
       "\r\n",
       "94158</th>\n",
       "      <th>99135</th>\n",
       "      <th>Near 91304</th>\n",
       "    </tr>\n",
       "  </thead>\n",
       "  <tbody>\n",
       "    <tr>\n",
       "      <th>0</th>\n",
       "      <td>3</td>\n",
       "      <td>1.0</td>\n",
       "      <td>2</td>\n",
       "      <td>100.0</td>\n",
       "      <td>1.0</td>\n",
       "      <td>1.0</td>\n",
       "      <td>7</td>\n",
       "      <td>1</td>\n",
       "      <td>0</td>\n",
       "      <td>0</td>\n",
       "      <td>...</td>\n",
       "      <td>0</td>\n",
       "      <td>0</td>\n",
       "      <td>0</td>\n",
       "      <td>0</td>\n",
       "      <td>0</td>\n",
       "      <td>0</td>\n",
       "      <td>0</td>\n",
       "      <td>0</td>\n",
       "      <td>0</td>\n",
       "      <td>0</td>\n",
       "    </tr>\n",
       "    <tr>\n",
       "      <th>1</th>\n",
       "      <td>7</td>\n",
       "      <td>1.0</td>\n",
       "      <td>6</td>\n",
       "      <td>93.0</td>\n",
       "      <td>3.0</td>\n",
       "      <td>3.0</td>\n",
       "      <td>9</td>\n",
       "      <td>1</td>\n",
       "      <td>0</td>\n",
       "      <td>0</td>\n",
       "      <td>...</td>\n",
       "      <td>0</td>\n",
       "      <td>0</td>\n",
       "      <td>0</td>\n",
       "      <td>0</td>\n",
       "      <td>0</td>\n",
       "      <td>0</td>\n",
       "      <td>0</td>\n",
       "      <td>0</td>\n",
       "      <td>0</td>\n",
       "      <td>0</td>\n",
       "    </tr>\n",
       "    <tr>\n",
       "      <th>2</th>\n",
       "      <td>5</td>\n",
       "      <td>1.0</td>\n",
       "      <td>10</td>\n",
       "      <td>92.0</td>\n",
       "      <td>1.0</td>\n",
       "      <td>3.0</td>\n",
       "      <td>15</td>\n",
       "      <td>1</td>\n",
       "      <td>0</td>\n",
       "      <td>0</td>\n",
       "      <td>...</td>\n",
       "      <td>0</td>\n",
       "      <td>0</td>\n",
       "      <td>0</td>\n",
       "      <td>0</td>\n",
       "      <td>0</td>\n",
       "      <td>0</td>\n",
       "      <td>0</td>\n",
       "      <td>0</td>\n",
       "      <td>0</td>\n",
       "      <td>0</td>\n",
       "    </tr>\n",
       "    <tr>\n",
       "      <th>3</th>\n",
       "      <td>4</td>\n",
       "      <td>1.0</td>\n",
       "      <td>0</td>\n",
       "      <td>0.0</td>\n",
       "      <td>2.0</td>\n",
       "      <td>2.0</td>\n",
       "      <td>11</td>\n",
       "      <td>0</td>\n",
       "      <td>0</td>\n",
       "      <td>0</td>\n",
       "      <td>...</td>\n",
       "      <td>0</td>\n",
       "      <td>0</td>\n",
       "      <td>0</td>\n",
       "      <td>0</td>\n",
       "      <td>0</td>\n",
       "      <td>0</td>\n",
       "      <td>0</td>\n",
       "      <td>0</td>\n",
       "      <td>0</td>\n",
       "      <td>0</td>\n",
       "    </tr>\n",
       "    <tr>\n",
       "      <th>4</th>\n",
       "      <td>2</td>\n",
       "      <td>1.0</td>\n",
       "      <td>4</td>\n",
       "      <td>40.0</td>\n",
       "      <td>0.0</td>\n",
       "      <td>1.0</td>\n",
       "      <td>9</td>\n",
       "      <td>1</td>\n",
       "      <td>0</td>\n",
       "      <td>0</td>\n",
       "      <td>...</td>\n",
       "      <td>0</td>\n",
       "      <td>0</td>\n",
       "      <td>0</td>\n",
       "      <td>0</td>\n",
       "      <td>0</td>\n",
       "      <td>0</td>\n",
       "      <td>0</td>\n",
       "      <td>0</td>\n",
       "      <td>0</td>\n",
       "      <td>0</td>\n",
       "    </tr>\n",
       "  </tbody>\n",
       "</table>\n",
       "<p>5 rows × 1454 columns</p>\n",
       "</div>"
      ],
      "text/plain": [
       "   accommodates  bathrooms  number_of_reviews  review_scores_rating  bedrooms  \\\n",
       "0             3        1.0                  2                 100.0       1.0   \n",
       "1             7        1.0                  6                  93.0       3.0   \n",
       "2             5        1.0                 10                  92.0       1.0   \n",
       "3             4        1.0                  0                   0.0       2.0   \n",
       "4             2        1.0                  4                  40.0       0.0   \n",
       "\n",
       "   beds  number_of_amenities  Apartment  Bed & Breakfast  Boat     ...      \\\n",
       "0   1.0                    7          1                0     0     ...       \n",
       "1   3.0                    9          1                0     0     ...       \n",
       "2   3.0                   15          1                0     0     ...       \n",
       "3   2.0                   11          0                0     0     ...       \n",
       "4   1.0                    9          1                0     0     ...       \n",
       "\n",
       "   94130  94131  94132  94133  94134  94158  94401  \\\n",
       "0      0      0      0      0      0      0      0   \n",
       "1      0      0      0      0      0      0      0   \n",
       "2      0      0      0      0      0      0      0   \n",
       "3      0      0      0      0      0      0      0   \n",
       "4      0      0      0      0      0      0      0   \n",
       "\n",
       "   95202\\r\\r\\r\\r\\r\\r\\n\\r\\r\\r\\r\\r\\r\\n\\r\\r\\r\\r\\r\\r\\n94158  99135  Near 91304  \n",
       "0                                                  0         0           0  \n",
       "1                                                  0         0           0  \n",
       "2                                                  0         0           0  \n",
       "3                                                  0         0           0  \n",
       "4                                                  0         0           0  \n",
       "\n",
       "[5 rows x 1454 columns]"
      ]
     },
     "metadata": {},
     "output_type": "display_data"
    }
   ],
   "source": [
    "display(df.head(5))\n",
    "\n"
   ]
  },
  {
   "cell_type": "code",
   "execution_count": 11,
   "metadata": {
    "collapsed": true
   },
   "outputs": [
    {
     "data": {
      "text/plain": [
       "Text(0,0.5,'Mean Squared Error')"
      ]
     },
     "execution_count": 11,
     "metadata": {},
     "output_type": "execute_result"
    },
    {
     "data": {
      "image/png": "[encoded data removed]",
      "text/plain": [
       "<matplotlib.figure.Figure at 0x1a23589550>"
      ]
     },
     "metadata": {},
     "output_type": "display_data"
    }
   ],
   "source": [
    "regression_models = [ linear_model.LinearRegression(), linear_model.Ridge(),\n",
    "        linear_model.Lasso(), linear_model.ElasticNet(),\n",
    "        linear_model.BayesianRidge(), linear_model.OrthogonalMatchingPursuit() ]\n",
    "\n",
    "regression_model_labels = np.array(['Linear', 'Ridge', 'Lasso', 'ElasticNet', 'BayesRidge', 'OMP'])\n",
    "\n",
    "errvals = np.array([])\n",
    "\n",
    "X_train, X_test, y_train, y_test = train_test_split(df, y, test_size=0.2, random_state=20)\n",
    "\n",
    "for e in regression_models:\n",
    "    e.fit(X_train, y_train)\n",
    "    this_err = metrics.mean_squared_error(y_test, e.predict(X_test))\n",
    "    errvals = np.append(errvals, this_err)\n",
    "\n",
    "pos = np.arange(errvals.shape[0])\n",
    "srt = np.argsort(errvals)\n",
    "plt.figure(figsize=(7,5))\n",
    "plt.bar(pos, errvals[srt], align='center')\n",
    "plt.xticks(pos, regression_model_labels[srt])\n",
    "plt.xlabel('Estimator')\n",
    "plt.ylabel('Mean Squared Error')\n",
    "\n"
   ]
  },
  {
   "cell_type": "code",
   "execution_count": null,
   "metadata": {},
   "outputs": [],
   "source": [
    "## Let's tune  model of our choice\n",
    "\n"
   ]
  },
  {
   "cell_type": "code",
   "execution_count": 12,
   "metadata": {},
   "outputs": [
    {
     "name": "stdout",
     "output_type": "stream",
     "text": [
      "Fitting 10 folds for each of 8 candidates, totalling 80 fits\n"
     ]
    },
    {
     "name": "stderr",
     "output_type": "stream",
     "text": [
      "[Parallel(n_jobs=1)]: Done  80 out of  80 | elapsed: 24.8min finished\n"
     ]
    },
    {
     "name": "stdout",
     "output_type": "stream",
     "text": [
      "Mean cross-validated score of the best_estimator : -3162621807552293.5\n",
      "Parameter & Estimator which gave highest score : LinearRegression(copy_X=True, fit_intercept=True, n_jobs=1, normalize=False) \n",
      "\n",
      "Residual sum of squares: 0.1715001221201542\n"
     ]
    }
   ],
   "source": [
    "n_folds = 10\n",
    "parameters = {'fit_intercept':[True,False], 'normalize':[True,False], 'copy_X':[True, False]}\n",
    "\n",
    "clf = GridSearchCV(linear_model.LinearRegression(), parameters, cv=n_folds, refit=True, verbose=True, njobs=-1)\n",
    "clf.fit(X_train, y_train)\n",
    "\n",
    "print('Mean cross-validated score of the best_estimator : {}'.format(clf.best_score_))\n",
    "print('Parameter & Estimator which gave highest score : {} '.format(clf.best_estimator_))\n",
    "print('')\n",
    "\n",
    "print('Residual sum of squares: {}'.format(np.mean((clf.predict(X_test) - y_test) ** 2)))\n",
    "\n"
   ]
  },
  {
   "cell_type": "code",
   "execution_count": 19,
   "metadata": {},
   "outputs": [
    {
     "name": "stdout",
     "output_type": "stream",
     "text": [
      "mean: -662354294155930752962789376.00000, std: 253422611663782567292698624.00000, params: {'copy_X': True, 'fit_intercept': True, 'normalize': True}\n",
      "mean: -3162621807552293.50000, std: 9405067080985938.00000, params: {'copy_X': True, 'fit_intercept': True, 'normalize': False}\n",
      "mean: -4524972854465943.00000, std: 12103300132677444.00000, params: {'copy_X': True, 'fit_intercept': False, 'normalize': True}\n",
      "mean: -4524972854465943.00000, std: 12103300132677444.00000, params: {'copy_X': True, 'fit_intercept': False, 'normalize': False}\n",
      "mean: -662354294155930752962789376.00000, std: 253422611663782567292698624.00000, params: {'copy_X': False, 'fit_intercept': True, 'normalize': True}\n",
      "mean: -3162621807552293.50000, std: 9405067080985938.00000, params: {'copy_X': False, 'fit_intercept': True, 'normalize': False}\n",
      "mean: -4524972854465943.00000, std: 12103300132677444.00000, params: {'copy_X': False, 'fit_intercept': False, 'normalize': True}\n",
      "mean: -4524972854465943.00000, std: 12103300132677444.00000, params: {'copy_X': False, 'fit_intercept': False, 'normalize': False}\n"
     ]
    }
   ],
   "source": [
    "for i in range(len(clf.grid_scores_)):\n",
    "    print(clf.grid_scores_[i])\n"
   ]
  },
  {
   "cell_type": "code",
   "execution_count": null,
   "metadata": {},
   "outputs": [],
   "source": []
  }
 ],
 "metadata": {
  "kernelspec": {
   "display_name": "Python 3",
   "language": "python",
   "name": "python3"
  },
  "language_info": {
   "codemirror_mode": {
    "name": "ipython",
    "version": 3
   },
   "file_extension": ".py",
   "mimetype": "text/x-python",
   "name": "python",
   "nbconvert_exporter": "python",
   "pygments_lexer": "ipython3",
   "version": "3.6.4"
  }
 },
 "nbformat": 4,
 "nbformat_minor": 2
}
