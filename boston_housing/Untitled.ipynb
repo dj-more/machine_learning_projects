{
 "cells": [
  {
   "cell_type": "code",
   "execution_count": 3,
   "metadata": {},
   "outputs": [],
   "source": [
    "import numpy as np\n",
    "from numpy.random import seed\n",
    "import pandas as pd\n",
    "import matplotlib.pyplot as plt\n",
    "from matplotlib.colors import ListedColormap\n",
    "from matplotlib import rcParams\n",
    "#set the plot figure size\n",
    "rcParams[\"figure.figsize\"] = 10,5\n",
    "%matplotlib inline"
   ]
  },
  {
   "cell_type": "code",
   "execution_count": null,
   "metadata": {},
   "outputs": [],
   "source": [
    "class Perceptron(object):\n",
    "    \"\"\"\n",
    "    Perceptron Classifier.\n",
    "    \n",
    "    Parameters\n",
    "    -------------\n",
    "    eta : float\n",
    "        Learning rate (between 0.0 and 1.0)\n",
    "    n_iter : int\n",
    "        Passes (epochs) over the training set.\n",
    "    Attributes\n",
    "    ----------\n",
    "    w_ : 1d_array\n",
    "        weights after fitting\n",
    "    errors_ : list\n",
    "        Number of misclassification in every epoch.\n",
    "    \n",
    "    \"\"\"\n",
    "    def __init__(self,eta=0.01,n_iter=10):\n",
    "            self.eta = eta\n",
    "            self.n_iter = n_iter\n",
    "    \n",
    "    def fit(self,X,y):\n",
    "        \"\"\"\n",
    "        Fit method for training data.\n",
    "        Parameters\n",
    "        ----------\n",
    "        X : arrat-like, shape = [n_samples, n_features)\n",
    "            Training vectors, where n_sample is the number \n",
    "            of samples and n_features is the no. of features\n",
    "        y : array-like, shape = [n_samples]\n",
    "            Target values.                       \n",
    "        \"\"\""
   ]
  }
 ],
 "metadata": {
  "kernelspec": {
   "display_name": "Python 3",
   "language": "python",
   "name": "python3"
  },
  "language_info": {
   "codemirror_mode": {
    "name": "ipython",
    "version": 3
   },
   "file_extension": ".py",
   "mimetype": "text/x-python",
   "name": "python",
   "nbconvert_exporter": "python",
   "pygments_lexer": "ipython3",
   "version": "3.6.4"
  }
 },
 "nbformat": 4,
 "nbformat_minor": 2
}
